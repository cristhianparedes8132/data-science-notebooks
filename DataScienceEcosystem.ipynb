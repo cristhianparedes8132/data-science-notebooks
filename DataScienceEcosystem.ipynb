{
  "metadata": {
    "kernelspec": {
      "name": "python",
      "display_name": "Python (Pyodide)",
      "language": "python"
    },
    "language_info": {
      "codemirror_mode": {
        "name": "python",
        "version": 3
      },
      "file_extension": ".py",
      "mimetype": "text/x-python",
      "name": "python",
      "nbconvert_exporter": "python",
      "pygments_lexer": "ipython3",
      "version": "3.8"
    }
  },
  "nbformat_minor": 5,
  "nbformat": 4,
  "cells": [
    {
      "id": "1ed135d3-083c-4814-a23d-a487518d580b",
      "cell_type": "markdown",
      "source": "# Data Science tools and Ecosystem",
      "metadata": {}
    },
    {
      "id": "6ba1e7a1-e3db-4676-aeaa-aa344b19990c",
      "cell_type": "markdown",
      "source": "In this notebook, Data Science Tools and Ecosystem are summarized",
      "metadata": {}
    },
    {
      "id": "81591082-7071-4e67-967a-665ededa1498",
      "cell_type": "markdown",
      "source": "Some of the popular languages that Data Scientist use are: \n1. Python\n2. R\n3. Java\n4. SQL\n5. Scala",
      "metadata": {}
    },
    {
      "id": "df113a9c-5290-4046-808b-78af7a6a11db",
      "cell_type": "markdown",
      "source": "Some of the commonly used libraries used by Data Scientist include: \n1. ggplot\n2. Panda\n3. Numpy\n4. Plotly\n5. Pytorch",
      "metadata": {}
    },
    {
      "id": "664bd933-a9b4-467e-a076-21fc71b68fa1",
      "cell_type": "markdown",
      "source": "| Data Science Tools |\n| ---- |\n| Jupyter Notebooks |\n| Anaconda |\n| RStudio |",
      "metadata": {}
    },
    {
      "id": "1b9757ef-e936-4bce-9133-37335a9161b4",
      "cell_type": "markdown",
      "source": "### Below are a few examples of evaluating arithmetic expressions inm Python ",
      "metadata": {}
    },
    {
      "id": "d7fa44d6-9b49-4874-9e75-732a664bf893",
      "cell_type": "code",
      "source": "# This a simple arithmetic expression to miltiply then add integers.\n(3*4)+ 5",
      "metadata": {
        "trusted": true
      },
      "outputs": [
        {
          "execution_count": 4,
          "output_type": "execute_result",
          "data": {
            "text/plain": "17"
          },
          "metadata": {}
        }
      ],
      "execution_count": 4
    },
    {
      "id": "7ae84720-30c0-4aaf-bca6-8d92064436da",
      "cell_type": "code",
      "source": "# This will convert 200 minutes to hours by dividing by 60\n200/60",
      "metadata": {
        "trusted": true
      },
      "outputs": [
        {
          "execution_count": 5,
          "output_type": "execute_result",
          "data": {
            "text/plain": "3.3333333333333335"
          },
          "metadata": {}
        }
      ],
      "execution_count": 5
    },
    {
      "id": "45889506-2daa-4ef0-8e33-17301ad5913b",
      "cell_type": "markdown",
      "source": "## Author\nCristhian Paredes\n",
      "metadata": {}
    }
  ]
}